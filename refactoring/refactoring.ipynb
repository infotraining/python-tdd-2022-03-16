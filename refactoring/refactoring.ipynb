{
 "cells": [
  {
   "cell_type": "code",
   "execution_count": 36,
   "metadata": {},
   "outputs": [],
   "source": [
    "class Order:\n",
    "    def __init__(self, priority):\n",
    "        self.priority = priority\n",
    "\n",
    "    def __repr__(self):\n",
    "        return f\"Order('{self.priority}')\"\n",
    "        "
   ]
  },
  {
   "cell_type": "code",
   "execution_count": 37,
   "metadata": {},
   "outputs": [
    {
     "data": {
      "text/plain": [
       "[Order('normal'), Order('rush')]"
      ]
     },
     "execution_count": 37,
     "metadata": {},
     "output_type": "execute_result"
    }
   ],
   "source": [
    "orders = [Order('normal'), Order('low'), Order('rush')]\n",
    "selected_orders = [o for o in orders if o.priority == 'normal' or o.priority == 'rush']\n",
    "selected_orders"
   ]
  },
  {
   "cell_type": "code",
   "execution_count": 38,
   "metadata": {},
   "outputs": [],
   "source": [
    "class Priority:\n",
    "    states = ['low', 'normal', 'rush']\n",
    "\n",
    "    def __init__(self, priority):\n",
    "        assert priority in Priority.states\n",
    "        self._index = Priority.states.index(priority)\n",
    "   \n",
    "    def __ge__(self, other):\n",
    "        return self._index >= other._index\n",
    "\n",
    "class Order:\n",
    "    def __init__(self, priority):\n",
    "        self._priority = Priority(priority)\n",
    "\n",
    "    @property\n",
    "    def priority(self):\n",
    "        return self._priority\n",
    "\n",
    "    def __repr__(self):\n",
    "        return f\"Order('{Priority.states[self.priority._index]}')\""
   ]
  },
  {
   "cell_type": "code",
   "execution_count": 39,
   "metadata": {},
   "outputs": [
    {
     "data": {
      "text/plain": [
       "[Order('normal'), Order('rush')]"
      ]
     },
     "execution_count": 39,
     "metadata": {},
     "output_type": "execute_result"
    }
   ],
   "source": [
    "orders = [Order('normal'), Order('low'), Order('rush')]\n",
    "selected_orders = [o for o in orders if o.priority >= Priority('normal')]\n",
    "selected_orders"
   ]
  },
  {
   "cell_type": "code",
   "execution_count": 40,
   "metadata": {},
   "outputs": [
    {
     "data": {
      "text/plain": [
       "[Order('normal'), Order('rush')]"
      ]
     },
     "execution_count": 40,
     "metadata": {},
     "output_type": "execute_result"
    }
   ],
   "source": [
    "selected_orders = [o for o in orders if o.priority >= Priority('normal')]\n",
    "selected_orders"
   ]
  }
 ],
 "metadata": {
  "interpreter": {
   "hash": "2be5faf79681da6f2a61fdfdd5405d65d042280f7fba6178067603e3a2925119"
  },
  "kernelspec": {
   "display_name": "Python 3.10.2 64-bit",
   "language": "python",
   "name": "python3"
  },
  "language_info": {
   "codemirror_mode": {
    "name": "ipython",
    "version": 3
   },
   "file_extension": ".py",
   "mimetype": "text/x-python",
   "name": "python",
   "nbconvert_exporter": "python",
   "pygments_lexer": "ipython3",
   "version": "3.10.2"
  },
  "orig_nbformat": 4
 },
 "nbformat": 4,
 "nbformat_minor": 2
}
